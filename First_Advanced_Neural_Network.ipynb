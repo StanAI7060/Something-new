{
  "nbformat": 4,
  "nbformat_minor": 0,
  "metadata": {
    "colab": {
      "provenance": [],
      "authorship_tag": "ABX9TyMCdRvBp+DNbzO8Xh6nCWX1",
      "include_colab_link": true
    },
    "kernelspec": {
      "name": "python3",
      "display_name": "Python 3"
    },
    "language_info": {
      "name": "python"
    }
  },
  "cells": [
    {
      "cell_type": "markdown",
      "metadata": {
        "id": "view-in-github",
        "colab_type": "text"
      },
      "source": [
        "<a href=\"https://colab.research.google.com/github/StanAI7060/Something-new/blob/main/First_Advanced_Neural_Network.ipynb\" target=\"_parent\"><img src=\"https://colab.research.google.com/assets/colab-badge.svg\" alt=\"Open In Colab\"/></a>"
      ]
    },
    {
      "cell_type": "code",
      "execution_count": 1,
      "metadata": {
        "id": "Nws2QU6W9NST"
      },
      "outputs": [],
      "source": [
        "import tensorflow as tf\n",
        "from tensorflow import keras\n",
        "import matplotlib.pyplot as plt"
      ]
    },
    {
      "cell_type": "code",
      "source": [
        "cifar10 = keras.datasets.cifar10\n",
        "(X_train_full, y_train_full),(X_test,y_test) = cifar10.load_data()"
      ],
      "metadata": {
        "colab": {
          "base_uri": "https://localhost:8080/"
        },
        "id": "E37hCmcn9Qjo",
        "outputId": "b8907f6f-3db4-4eda-bb94-152e4835112a"
      },
      "execution_count": 2,
      "outputs": [
        {
          "output_type": "stream",
          "name": "stdout",
          "text": [
            "Downloading data from https://www.cs.toronto.edu/~kriz/cifar-10-python.tar.gz\n",
            "170498071/170498071 [==============================] - 11s 0us/step\n"
          ]
        }
      ]
    },
    {
      "cell_type": "code",
      "source": [
        "X_train_full.shape"
      ],
      "metadata": {
        "colab": {
          "base_uri": "https://localhost:8080/"
        },
        "id": "8lVWcsRV9Qfu",
        "outputId": "aa328f17-cb91-4975-c784-e8cc6bd9fc45"
      },
      "execution_count": 3,
      "outputs": [
        {
          "output_type": "execute_result",
          "data": {
            "text/plain": [
              "(50000, 32, 32, 3)"
            ]
          },
          "metadata": {},
          "execution_count": 3
        }
      ]
    },
    {
      "cell_type": "code",
      "source": [
        "X_train_full.shape"
      ],
      "metadata": {
        "colab": {
          "base_uri": "https://localhost:8080/"
        },
        "id": "23XABtPU9QaU",
        "outputId": "3717739c-327e-455d-a7b7-c476f8836cd3"
      },
      "execution_count": 4,
      "outputs": [
        {
          "output_type": "execute_result",
          "data": {
            "text/plain": [
              "(50000, 32, 32, 3)"
            ]
          },
          "metadata": {},
          "execution_count": 4
        }
      ]
    },
    {
      "cell_type": "code",
      "source": [
        "X_train_full[0]"
      ],
      "metadata": {
        "colab": {
          "base_uri": "https://localhost:8080/",
          "height": 72
        },
        "id": "AK0V7Nj09QWY",
        "outputId": "1a984569-a6f8-418e-b9c3-79e13b543fbe"
      },
      "execution_count": 5,
      "outputs": [
        {
          "output_type": "execute_result",
          "data": {
            "text/plain": [
              "array([[[ 59,  62,  63],\n",
              "        [ 43,  46,  45],\n",
              "        [ 50,  48,  43],\n",
              "        ...,\n",
              "        [158, 132, 108],\n",
              "        [152, 125, 102],\n",
              "        [148, 124, 103]],\n",
              "\n",
              "       [[ 16,  20,  20],\n",
              "        [  0,   0,   0],\n",
              "        [ 18,   8,   0],\n",
              "        ...,\n",
              "        [123,  88,  55],\n",
              "        [119,  83,  50],\n",
              "        [122,  87,  57]],\n",
              "\n",
              "       [[ 25,  24,  21],\n",
              "        [ 16,   7,   0],\n",
              "        [ 49,  27,   8],\n",
              "        ...,\n",
              "        [118,  84,  50],\n",
              "        [120,  84,  50],\n",
              "        [109,  73,  42]],\n",
              "\n",
              "       ...,\n",
              "\n",
              "       [[208, 170,  96],\n",
              "        [201, 153,  34],\n",
              "        [198, 161,  26],\n",
              "        ...,\n",
              "        [160, 133,  70],\n",
              "        [ 56,  31,   7],\n",
              "        [ 53,  34,  20]],\n",
              "\n",
              "       [[180, 139,  96],\n",
              "        [173, 123,  42],\n",
              "        [186, 144,  30],\n",
              "        ...,\n",
              "        [184, 148,  94],\n",
              "        [ 97,  62,  34],\n",
              "        [ 83,  53,  34]],\n",
              "\n",
              "       [[177, 144, 116],\n",
              "        [168, 129,  94],\n",
              "        [179, 142,  87],\n",
              "        ...,\n",
              "        [216, 184, 140],\n",
              "        [151, 118,  84],\n",
              "        [123,  92,  72]]], dtype=uint8)"
            ],
            "text/html": [
              "<style>\n",
              "      .ndarray_repr .ndarray_raw_data {\n",
              "        display: none;\n",
              "      }\n",
              "      .ndarray_repr.show_array .ndarray_raw_data {\n",
              "        display: block;\n",
              "      }\n",
              "      .ndarray_repr.show_array .ndarray_image_preview {\n",
              "        display: none;\n",
              "      }\n",
              "      </style>\n",
              "      <div id=\"id-41bcf4e5-5358-4592-9dd1-07df845fe54c\" class=\"ndarray_repr\"><pre>ndarray (32, 32, 3) <button style=\"padding: 0 2px;\">show data</button></pre><img src=\"data:image/png;base64,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\" class=\"ndarray_image_preview\" /><pre class=\"ndarray_raw_data\">array([[[ 59,  62,  63],\n",
              "        [ 43,  46,  45],\n",
              "        [ 50,  48,  43],\n",
              "        ...,\n",
              "        [158, 132, 108],\n",
              "        [152, 125, 102],\n",
              "        [148, 124, 103]],\n",
              "\n",
              "       [[ 16,  20,  20],\n",
              "        [  0,   0,   0],\n",
              "        [ 18,   8,   0],\n",
              "        ...,\n",
              "        [123,  88,  55],\n",
              "        [119,  83,  50],\n",
              "        [122,  87,  57]],\n",
              "\n",
              "       [[ 25,  24,  21],\n",
              "        [ 16,   7,   0],\n",
              "        [ 49,  27,   8],\n",
              "        ...,\n",
              "        [118,  84,  50],\n",
              "        [120,  84,  50],\n",
              "        [109,  73,  42]],\n",
              "\n",
              "       ...,\n",
              "\n",
              "       [[208, 170,  96],\n",
              "        [201, 153,  34],\n",
              "        [198, 161,  26],\n",
              "        ...,\n",
              "        [160, 133,  70],\n",
              "        [ 56,  31,   7],\n",
              "        [ 53,  34,  20]],\n",
              "\n",
              "       [[180, 139,  96],\n",
              "        [173, 123,  42],\n",
              "        [186, 144,  30],\n",
              "        ...,\n",
              "        [184, 148,  94],\n",
              "        [ 97,  62,  34],\n",
              "        [ 83,  53,  34]],\n",
              "\n",
              "       [[177, 144, 116],\n",
              "        [168, 129,  94],\n",
              "        [179, 142,  87],\n",
              "        ...,\n",
              "        [216, 184, 140],\n",
              "        [151, 118,  84],\n",
              "        [123,  92,  72]]], dtype=uint8)</pre></div><script>\n",
              "      (() => {\n",
              "      const titles = ['show data', 'hide data'];\n",
              "      let index = 0\n",
              "      document.querySelector('#id-41bcf4e5-5358-4592-9dd1-07df845fe54c button').onclick = (e) => {\n",
              "        document.querySelector('#id-41bcf4e5-5358-4592-9dd1-07df845fe54c').classList.toggle('show_array');\n",
              "        index = (++index) % 2;\n",
              "        document.querySelector('#id-41bcf4e5-5358-4592-9dd1-07df845fe54c button').textContent = titles[index];\n",
              "        e.preventDefault();\n",
              "        e.stopPropagation();\n",
              "      }\n",
              "      })();\n",
              "    </script>"
            ]
          },
          "metadata": {},
          "execution_count": 5
        }
      ]
    },
    {
      "cell_type": "code",
      "source": [
        "fig, axes = plt.subplots(nrows=3, ncols=3, figsize=(10,10))\n",
        "a = 0\n",
        "\n",
        "for i in range(3):\n",
        "    for j in range(3):\n",
        "        axes[i, j].imshow(X_train_full[a], cmap=plt.get_cmap('gray'))\n",
        "        a = a + 1\n",
        "\n",
        "plt.show()"
      ],
      "metadata": {
        "colab": {
          "base_uri": "https://localhost:8080/",
          "height": 832
        },
        "id": "Fd1uwvrs9QS_",
        "outputId": "48406d5b-c35b-459a-b46f-ae3a466b1ec4"
      },
      "execution_count": 6,
      "outputs": [
        {
          "output_type": "display_data",
          "data": {
            "text/plain": [
              "<Figure size 1000x1000 with 9 Axes>"
            ],
            "image/png": "[encoded data removed]"
          },
          "metadata": {}
        }
      ]
    },
    {
      "cell_type": "code",
      "source": [
        "class_names = [\"airplane\",\"automobile\",\"bird\",\"cat\",\"deer\",\"dog\",\"frog\",\"horse\",\"ship\",\"truck\"]"
      ],
      "metadata": {
        "id": "yXbcJasM9QP-"
      },
      "execution_count": 7,
      "outputs": []
    },
    {
      "cell_type": "code",
      "source": [
        "class_names[y_train_full[8][0]]"
      ],
      "metadata": {
        "colab": {
          "base_uri": "https://localhost:8080/",
          "height": 35
        },
        "id": "19NcV7E79QMm",
        "outputId": "5e6e79c8-3999-4802-db0e-43a7d33ae77f"
      },
      "execution_count": 8,
      "outputs": [
        {
          "output_type": "execute_result",
          "data": {
            "text/plain": [
              "'ship'"
            ],
            "application/vnd.google.colaboratory.intrinsic+json": {
              "type": "string"
            }
          },
          "metadata": {},
          "execution_count": 8
        }
      ]
    },
    {
      "cell_type": "code",
      "source": [
        "plt.imshow(X_train_full[8], cmap=plt.get_cmap('gray'))"
      ],
      "metadata": {
        "colab": {
          "base_uri": "https://localhost:8080/",
          "height": 447
        },
        "id": "KV6V6afe9QJV",
        "outputId": "3b88a711-5bb3-47f6-d378-d58afef0ac0c"
      },
      "execution_count": 9,
      "outputs": [
        {
          "output_type": "execute_result",
          "data": {
            "text/plain": [
              "<matplotlib.image.AxesImage at 0x7f6d13b93670>"
            ]
          },
          "metadata": {},
          "execution_count": 9
        },
        {
          "output_type": "display_data",
          "data": {
            "text/plain": [
              "<Figure size 640x480 with 1 Axes>"
            ],
            "image/png": "[encoded data removed]"
          },
          "metadata": {}
        }
      ]
    },
    {
      "cell_type": "code",
      "source": [
        "X_valid, X_train = X_train_full[:5000] / 255, X_train_full[5000:]/255\n",
        "y_valid, y_train = y_train_full[:5000], y_train_full[5000:]\n",
        "X_test = X_test/255"
      ],
      "metadata": {
        "id": "5U2s5XND9QDb"
      },
      "execution_count": 10,
      "outputs": []
    },
    {
      "cell_type": "code",
      "source": [
        "X_train[0]"
      ],
      "metadata": {
        "colab": {
          "base_uri": "https://localhost:8080/"
        },
        "id": "cDvOjKWE9QAN",
        "outputId": "056070ac-e047-414b-e234-09ce194bcb69"
      },
      "execution_count": 11,
      "outputs": [
        {
          "output_type": "execute_result",
          "data": {
            "text/plain": [
              "array([[[0.23529412, 0.32156863, 0.21176471],\n",
              "        [0.15686275, 0.26666667, 0.14117647],\n",
              "        [0.20392157, 0.31764706, 0.20392157],\n",
              "        ...,\n",
              "        [0.20784314, 0.16862745, 0.19607843],\n",
              "        [0.25882353, 0.21568627, 0.23921569],\n",
              "        [0.28627451, 0.24313725, 0.26666667]],\n",
              "\n",
              "       [[0.43921569, 0.44705882, 0.44705882],\n",
              "        [0.22745098, 0.27843137, 0.21960784],\n",
              "        [0.22745098, 0.31764706, 0.20784314],\n",
              "        ...,\n",
              "        [0.21176471, 0.18431373, 0.20784314],\n",
              "        [0.2627451 , 0.22745098, 0.25490196],\n",
              "        [0.28235294, 0.24313725, 0.27058824]],\n",
              "\n",
              "       [[0.66666667, 0.63137255, 0.69803922],\n",
              "        [0.46666667, 0.4627451 , 0.47058824],\n",
              "        [0.31372549, 0.34901961, 0.29019608],\n",
              "        ...,\n",
              "        [0.21960784, 0.19607843, 0.21960784],\n",
              "        [0.2745098 , 0.24705882, 0.2745098 ],\n",
              "        [0.28235294, 0.25098039, 0.27843137]],\n",
              "\n",
              "       ...,\n",
              "\n",
              "       [[0.35686275, 0.44313725, 0.36862745],\n",
              "        [0.23137255, 0.3254902 , 0.24313725],\n",
              "        [0.17647059, 0.25490196, 0.17647059],\n",
              "        ...,\n",
              "        [0.1254902 , 0.21960784, 0.11764706],\n",
              "        [0.10196078, 0.18039216, 0.10196078],\n",
              "        [0.09803922, 0.16470588, 0.09019608]],\n",
              "\n",
              "       [[0.38823529, 0.46666667, 0.4       ],\n",
              "        [0.25098039, 0.3372549 , 0.2627451 ],\n",
              "        [0.21568627, 0.29411765, 0.21568627],\n",
              "        ...,\n",
              "        [0.16470588, 0.27843137, 0.15294118],\n",
              "        [0.16470588, 0.26666667, 0.14509804],\n",
              "        [0.15686275, 0.25098039, 0.1254902 ]],\n",
              "\n",
              "       [[0.41176471, 0.47843137, 0.42352941],\n",
              "        [0.2745098 , 0.36078431, 0.29019608],\n",
              "        [0.23137255, 0.30980392, 0.23529412],\n",
              "        ...,\n",
              "        [0.16862745, 0.25882353, 0.15686275],\n",
              "        [0.18039216, 0.2745098 , 0.16470588],\n",
              "        [0.17647059, 0.27843137, 0.15686275]]])"
            ]
          },
          "metadata": {},
          "execution_count": 11
        }
      ]
    },
    {
      "cell_type": "code",
      "source": [
        "# # 1cycle learning rate scheduler\n",
        "# # code from: https://pub.towardsai.net/1cycle-learning-rate-scheduling-with-tensorflow-and-keras-74ae7ce277c8\n",
        "# class OneCycleScheduler(keras.callbacks.Callback):\n",
        "#     def __init__(self, iterations, max_rate, start_rate=None,\n",
        "#                  last_iterations=None, last_rate=None):\n",
        "#         self.iterations = iterations\n",
        "#         self.max_rate = max_rate\n",
        "#         self.start_rate = start_rate or max_rate / 10\n",
        "#         self.last_iterations = last_iterations or iterations // 10 + 1\n",
        "#         self.half_iteration = (iterations - self.last_iterations) // 2\n",
        "#         self.last_rate = last_rate or self.start_rate / 1000\n",
        "#         self.iteration = 0\n",
        "\n",
        "#     def _interpolate(self, iter1, iter2, rate1, rate2):\n",
        "#         return ((rate2 - rate1) * (self.iteration - iter1)\n",
        "#                 / (iter2 - iter1) + rate1)\n",
        "\n",
        "#     def on_batch_begin(self, batch, logs):\n",
        "#         if self.iteration < self.half_iteration:\n",
        "#             rate = self._interpolate(0, self.half_iteration, self.start_rate, self.max_rate)\n",
        "#         elif self.iteration < 2 * self.half_iteration:\n",
        "#             rate = self._interpolate(self.half_iteration, 2 * self.half_iteration,\n",
        "#                                      self.max_rate, self.start_rate)\n",
        "#         else:\n",
        "#             rate = self._interpolate(2 * self.half_iteration, self.iterations,\n",
        "#                                      self.start_rate, self.last_rate)\n",
        "#         self.iteration += 1\n",
        "#         keras.backend.set_value(self.model.optimizer.lr, rate)\n",
        "\n",
        "\n",
        "# onecycle = OneCycleScheduler(30,0.04)\n",
        "# , callbacks=[onecycle]"
      ],
      "metadata": {
        "id": "r7LByQmh9P9H"
      },
      "execution_count": 12,
      "outputs": []
    },
    {
      "cell_type": "code",
      "source": [
        "def exponential_decay(epoch):\n",
        "        return 0.01*0.1**(epoch/10)\n",
        "\n",
        "exponential_decay_fn = exponential_decay\n",
        "lr_scheduler = keras.callbacks.LearningRateScheduler(exponential_decay_fn)"
      ],
      "metadata": {
        "id": "fuMgD8BC9P6A"
      },
      "execution_count": 13,
      "outputs": []
    },
    {
      "cell_type": "code",
      "source": [
        "model = keras.models.Sequential([\n",
        "            keras.layers.Flatten(input_shape=[32,32,3]),\n",
        "            keras.layers.AlphaDropout(rate=0.1),\n",
        "            keras.layers.Dense(300, kernel_initializer='lecun_normal', activation='selu'),\n",
        "            keras.layers.AlphaDropout(rate=0.1),\n",
        "            keras.layers.Dense(300, kernel_initializer='lecun_normal', activation='selu'),\n",
        "            keras.layers.AlphaDropout(rate=0.1),\n",
        "            keras.layers.Dense(300, kernel_initializer='lecun_normal', activation='selu'),\n",
        "            keras.layers.AlphaDropout(rate=0.1),\n",
        "            keras.layers.Dense(300, kernel_initializer='lecun_normal', activation='selu'),\n",
        "            keras.layers.AlphaDropout(rate=0.1),\n",
        "            keras.layers.Dense(300, kernel_initializer='lecun_normal', activation='selu'),\n",
        "            keras.layers.AlphaDropout(rate=0.1),\n",
        "            keras.layers.Dense(10, activation = \"softmax\")\n",
        "            ])"
      ],
      "metadata": {
        "id": "aBieqyPN9P3J"
      },
      "execution_count": 14,
      "outputs": []
    },
    {
      "cell_type": "code",
      "source": [
        "model.summary()"
      ],
      "metadata": {
        "colab": {
          "base_uri": "https://localhost:8080/"
        },
        "id": "Mg0ASh819P0U",
        "outputId": "f060019d-cb31-40a5-902a-abe94504ac25"
      },
      "execution_count": 15,
      "outputs": [
        {
          "output_type": "stream",
          "name": "stdout",
          "text": [
            "Model: \"sequential\"\n",
            "_________________________________________________________________\n",
            " Layer (type)                Output Shape              Param #   \n",
            "=================================================================\n",
            " flatten (Flatten)           (None, 3072)              0         \n",
            "                                                                 \n",
            " alpha_dropout (AlphaDropou  (None, 3072)              0         \n",
            " t)                                                              \n",
            "                                                                 \n",
            " dense (Dense)               (None, 300)               921900    \n",
            "                                                                 \n",
            " alpha_dropout_1 (AlphaDrop  (None, 300)               0         \n",
            " out)                                                            \n",
            "                                                                 \n",
            " dense_1 (Dense)             (None, 300)               90300     \n",
            "                                                                 \n",
            " alpha_dropout_2 (AlphaDrop  (None, 300)               0         \n",
            " out)                                                            \n",
            "                                                                 \n",
            " dense_2 (Dense)             (None, 300)               90300     \n",
            "                                                                 \n",
            " alpha_dropout_3 (AlphaDrop  (None, 300)               0         \n",
            " out)                                                            \n",
            "                                                                 \n",
            " dense_3 (Dense)             (None, 300)               90300     \n",
            "                                                                 \n",
            " alpha_dropout_4 (AlphaDrop  (None, 300)               0         \n",
            " out)                                                            \n",
            "                                                                 \n",
            " dense_4 (Dense)             (None, 300)               90300     \n",
            "                                                                 \n",
            " alpha_dropout_5 (AlphaDrop  (None, 300)               0         \n",
            " out)                                                            \n",
            "                                                                 \n",
            " dense_5 (Dense)             (None, 10)                3010      \n",
            "                                                                 \n",
            "=================================================================\n",
            "Total params: 1286110 (4.91 MB)\n",
            "Trainable params: 1286110 (4.91 MB)\n",
            "Non-trainable params: 0 (0.00 Byte)\n",
            "_________________________________________________________________\n"
          ]
        }
      ]
    },
    {
      "cell_type": "code",
      "source": [
        "model.layers"
      ],
      "metadata": {
        "colab": {
          "base_uri": "https://localhost:8080/"
        },
        "id": "9FX9DqRc9PxZ",
        "outputId": "9ecaeff9-ad6f-4aaa-a543-66ebf753355c"
      },
      "execution_count": 16,
      "outputs": [
        {
          "output_type": "execute_result",
          "data": {
            "text/plain": [
              "[<keras.src.layers.reshaping.flatten.Flatten at 0x7f6d13c3e0e0>,\n",
              " <keras.src.layers.regularization.alpha_dropout.AlphaDropout at 0x7f6d1225d2d0>,\n",
              " <keras.src.layers.core.dense.Dense at 0x7f6d13c2fcd0>,\n",
              " <keras.src.layers.regularization.alpha_dropout.AlphaDropout at 0x7f6d13c2d150>,\n",
              " <keras.src.layers.core.dense.Dense at 0x7f6d1225d720>,\n",
              " <keras.src.layers.regularization.alpha_dropout.AlphaDropout at 0x7f6d1225d840>,\n",
              " <keras.src.layers.core.dense.Dense at 0x7f6d1225dd50>,\n",
              " <keras.src.layers.regularization.alpha_dropout.AlphaDropout at 0x7f6d1225de70>,\n",
              " <keras.src.layers.core.dense.Dense at 0x7f6d1225e380>,\n",
              " <keras.src.layers.regularization.alpha_dropout.AlphaDropout at 0x7f6d1225e4a0>,\n",
              " <keras.src.layers.core.dense.Dense at 0x7f6d1225e9b0>,\n",
              " <keras.src.layers.regularization.alpha_dropout.AlphaDropout at 0x7f6d1225ead0>,\n",
              " <keras.src.layers.core.dense.Dense at 0x7f6d1225efb0>]"
            ]
          },
          "metadata": {},
          "execution_count": 16
        }
      ]
    },
    {
      "cell_type": "code",
      "source": [
        "model.compile(loss=\"sparse_categorical_crossentropy\", optimizer=\"sgd\", metrics=[\"accuracy\"])"
      ],
      "metadata": {
        "id": "ce3wqB5Y_gYY"
      },
      "execution_count": 17,
      "outputs": []
    },
    {
      "cell_type": "code",
      "source": [
        "history = model.fit(X_train, y_train, epochs=60, validation_data = (X_valid, y_valid), batch_size=32, callbacks=[lr_scheduler])"
      ],
      "metadata": {
        "colab": {
          "base_uri": "https://localhost:8080/"
        },
        "id": "8Liu0qHc_gUN",
        "outputId": "335812af-ca94-4cad-9303-a118567c4e6e"
      },
      "execution_count": null,
      "outputs": [
        {
          "output_type": "stream",
          "name": "stdout",
          "text": [
            "1407/1407 [==============================] - 28s 20ms/step - loss: 1.8911 - accuracy: 0.3134 - val_loss: 1.9541 - val_accuracy: 0.3442 - lr: 3.1623e-06\n",
            "Epoch 37/60\n",
            "1407/1407 [==============================] - 18s 13ms/step - loss: 1.8880 - accuracy: 0.3156 - val_loss: 1.9543 - val_accuracy: 0.3442 - lr: 2.5119e-06\n",
            "Epoch 38/60\n",
            "1407/1407 [==============================] - 20s 14ms/step - loss: 1.8897 - accuracy: 0.3125 - val_loss: 1.9544 - val_accuracy: 0.3442 - lr: 1.9953e-06\n",
            "Epoch 39/60\n",
            "1390/1407 [============================>.] - ETA: 0s - loss: 1.8936 - accuracy: 0.3156"
          ]
        }
      ]
    },
    {
      "cell_type": "code",
      "source": [
        "import pandas as pd\n",
        "\n",
        "pd.DataFrame(history.history).plot(figsize=(15,8))\n",
        "plt.grid(True)\n",
        "plt.gca()\n",
        "plt.show()"
      ],
      "metadata": {
        "id": "AJWD5DQ-_gP0"
      },
      "execution_count": null,
      "outputs": []
    },
    {
      "cell_type": "code",
      "source": [
        "model.evaluate(X_test, y_test)"
      ],
      "metadata": {
        "id": "zr2wUN9d_gEy"
      },
      "execution_count": null,
      "outputs": []
    },
    {
      "cell_type": "code",
      "source": [
        "y_prob = model.predict(X_test)\n",
        "y_classes = y_prob.argmax(axis=-1)\n",
        "y_classes"
      ],
      "metadata": {
        "id": "0V3Dm0SM_82f"
      },
      "execution_count": null,
      "outputs": []
    },
    {
      "cell_type": "code",
      "source": [
        "confusion_matrix = tf.math.confusion_matrix(y_test, y_classes)"
      ],
      "metadata": {
        "id": "yv_i232__8zG"
      },
      "execution_count": null,
      "outputs": []
    },
    {
      "cell_type": "code",
      "source": [
        "import seaborn as sb\n",
        "\n",
        "# ax = plt.figure(figsize=(8, 6))\n",
        "fig = sb.heatmap(confusion_matrix, annot=True, fmt='g', cmap='Greens')  #annot=True to annotate cells, ftm='g' to disable scientific notation\n",
        "\n",
        "# labels, title and ticks\n",
        "fig.set_xlabel('Predicted labels')\n",
        "fig.set_ylabel('True labels')\n",
        "fig.set_title('Confusion Matrix')\n",
        "fig.xaxis.set_ticklabels(class_names)\n",
        "fig.yaxis.set_ticklabels(class_names)\n",
        "fig.figure.set_size_inches(10, 10)\n",
        "\n",
        "\n",
        "plt.show()"
      ],
      "metadata": {
        "id": "fJK2GuqG_8vd"
      },
      "execution_count": null,
      "outputs": []
    }
  ]
}